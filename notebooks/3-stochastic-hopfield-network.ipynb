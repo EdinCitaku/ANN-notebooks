{
 "cells": [
  {
   "cell_type": "markdown",
   "metadata": {},
   "source": [
    "# Stochastik Hopfield Network"
   ]
  },
  {
   "cell_type": "markdown",
   "metadata": {},
   "source": [
    "Write a computer program implementing a Hopfield network using Hebb's rule with $w_{ii}=0$, and asynchronous stochastic updating with $g(b)=\\tfrac{1}{1+{\\text {exp}}(-2\\beta b)}$ with the noise parameter β=2\\beta=2β=2. Use your computer program to answer the questions below.\n",
    "\n",
    "Use N=200 neurons and store p=7 random patterns $\\underline{x}^{(\\mu)}$ ($\\mu=1,\\ldots,p$). Each bit $x_i^{(\\mu)}=\\pm 1$ with probability $\\tfrac{1}{2}$. Feed the stored pattern $\\underline x^{(1)}$ to the network and perform $T=2\\cdot 10^5$ asynchronous stochastic updates.\n",
    "\n",
    "Estimate the resulting order parameter $m_1(T)$. Repeat this experiment 100 times. Each experiment should be initialised by a new realisation of independently drawn random patterns. Average $m_1(T)$ over the experiments to obtain $\\langle m_1(T)\\rangle$."
   ]
  },
  {
   "cell_type": "code",
   "execution_count": 1,
   "metadata": {},
   "outputs": [],
   "source": [
    "import numpy as np\n",
    "\n",
    "#Create p random patterns\n",
    "def g(b, beta):\n",
    "    return 1/(1+np.exp(-2*beta*b))\n",
    "\n",
    "def esign(x):\n",
    "\n",
    "    if(x == 0):\n",
    "        return 1\n",
    "    else:\n",
    "        return np.sign(x)\n",
    "\n",
    "\n",
    "def estimate_m(T, p, N, beta):\n",
    "\n",
    "    patterns = []\n",
    "    for i in range(p):\n",
    "        patterns.append(np.random.choice([-1,1],N))\n",
    "        #Create weights matrix according to hebbs rule\n",
    "    weights = patterns[0][:,None]*patterns[0]\n",
    "    for el in patterns[1:]:\n",
    "        weights = weights + el[:,None]*el\n",
    "    weights = weights/N\n",
    "    np.fill_diagonal(weights,0)\n",
    "    S = patterns[0].copy()\n",
    "    m = 0\n",
    "    for i in range(T):\n",
    "        chosen_i = np.random.choice(range(N))\n",
    "        probability = g(np.dot(weights[chosen_i], S),beta)\n",
    "        S[chosen_i] = esign(np.random.choice([+1,-1],p=[probability, 1-probability]))\n",
    "        m = m + np.dot(S,patterns[0])/N\n",
    "    m = m/T\n",
    "    return m\n"
   ]
  },
  {
   "cell_type": "markdown",
   "metadata": {},
   "source": [
    " What is the value of $\\langle m_1(T)\\rangle$ for $T=2\\cdot 10^5$, p=7, N=200, and β=2? State your result using three decimal places. "
   ]
  },
  {
   "cell_type": "code",
   "execution_count": null,
   "metadata": {},
   "outputs": [],
   "source": [
    "m_average = 0\n",
    "for i in range(100):\n",
    "    m_average+= estimate_m(100000, 7, 200, 2)\n",
    "m_average = m_average/100\n",
    "print(m_average)"
   ]
  },
  {
   "cell_type": "markdown",
   "metadata": {},
   "source": [
    "Repeat the above task, but for p=45p=45p=45. All other parameters are the same."
   ]
  },
  {
   "cell_type": "code",
   "execution_count": 2,
   "metadata": {},
   "outputs": [
    {
     "name": "stdout",
     "output_type": "stream",
     "text": [
      "0.16326665399999635\n"
     ]
    }
   ],
   "source": [
    "m_average = 0\n",
    "for i in range(100):\n",
    "    m_average+= estimate_m(100000, 45, 200, 2)\n",
    "m_average = m_average/100\n",
    "print(m_average)"
   ]
  },
  {
   "cell_type": "code",
   "execution_count": null,
   "metadata": {},
   "outputs": [],
   "source": []
  }
 ],
 "metadata": {
  "kernelspec": {
   "display_name": "Python 3",
   "language": "python",
   "name": "python3"
  },
  "language_info": {
   "codemirror_mode": {
    "name": "ipython",
    "version": 3
   },
   "file_extension": ".py",
   "mimetype": "text/x-python",
   "name": "python",
   "nbconvert_exporter": "python",
   "pygments_lexer": "ipython3",
   "version": "3.7.3"
  }
 },
 "nbformat": 4,
 "nbformat_minor": 2
}
