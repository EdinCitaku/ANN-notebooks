{
 "cells": [
  {
   "cell_type": "markdown",
   "metadata": {},
   "source": [
    "# Recognising digits"
   ]
  },
  {
   "cell_type": "markdown",
   "metadata": {},
   "source": [
    "Represent these patterns as vectors to store them in a Hopfield network using Hebb's rule (with $w_{ii}=0$). Use a typewriter scheme to index the bits, starting from the top row and going from left to right in each row.\n",
    "\n",
    "Below you are given three different patterns to feed into the network. For each of these, iterate asynchronous determistic updates of the network using the typewriter scheme explained above. Stop when you reach a steady state, and answer the questions below. If, at some update, you encounter sgn(0), then simply set sgn(0)=1.\n",
    "\n",
    "For each of the three experiments you are asked two questions: (A) To which pattern does your network converge? (B) Classify this pattern using the following scheme: if the pattern you obtain correspods to any of the stored patterns $x^{(\\mu)}$, enter the pattern $\\mu$ (for example, you enter 1 if you retrieve digit 0). If your network retrieves an inverted stored pattern, then enter $\\mu$ (for example, you enter −1 if you get the inverted digit 0). If you get anything else, enter 6"
   ]
  },
  {
   "cell_type": "code",
   "execution_count": 1,
   "metadata": {},
   "outputs": [],
   "source": [
    "import numpy as np\n",
    "import matplotlib.pyplot as plt\n",
    "\n",
    "#Patterns and their from in typewriter format\n",
    "x1=[ [ -1, -1, -1, -1, -1, -1, -1, -1, -1, -1],[ -1, -1, -1, 1, 1, 1, 1, -1, -1, -1],[ -1, -1, 1, 1, 1, 1, 1, 1, -1, -1],[ -1, 1, 1, 1, -1, -1, 1, 1, 1, -1],[ -1, 1, 1, 1, -1, -1, 1, 1, 1, -1],[ -1, 1, 1, 1, -1, -1, 1, 1, 1, -1],[ -1, 1, 1, 1, -1, -1, 1, 1, 1, -1],[ -1, 1, 1, 1, -1, -1, 1, 1, 1, -1],[ -1, 1, 1, 1, -1, -1, 1, 1, 1, -1],[ -1, 1, 1, 1, -1, -1, 1, 1, 1, -1],[ -1, 1, 1, 1, -1, -1, 1, 1, 1, -1],[ -1, 1, 1, 1, -1, -1, 1, 1, 1, -1],[ -1, 1, 1, 1, -1, -1, 1, 1, 1, -1],[ -1, -1, 1, 1, 1, 1, 1, 1, -1, -1],[ -1, -1, -1, 1, 1, 1, 1, -1, -1, -1],[ -1, -1, -1, -1, -1, -1, -1, -1, -1, -1] ]\n",
    "x1_tw = np.array(sum(x1, []))\n",
    "x2=[ [ -1, -1, -1, 1, 1, 1, 1, -1, -1, -1],[ -1, -1, -1, 1, 1, 1, 1, -1, -1, -1],[ -1, -1, -1, 1, 1, 1, 1, -1, -1, -1],[ -1, -1, -1, 1, 1, 1, 1, -1, -1, -1],[ -1, -1, -1, 1, 1, 1, 1, -1, -1, -1],[ -1, -1, -1, 1, 1, 1, 1, -1, -1, -1],[ -1, -1, -1, 1, 1, 1, 1, -1, -1, -1],[ -1, -1, -1, 1, 1, 1, 1, -1, -1, -1],[ -1, -1, -1, 1, 1, 1, 1, -1, -1, -1],[ -1, -1, -1, 1, 1, 1, 1, -1, -1, -1],[ -1, -1, -1, 1, 1, 1, 1, -1, -1, -1],[ -1, -1, -1, 1, 1, 1, 1, -1, -1, -1],[ -1, -1, -1, 1, 1, 1, 1, -1, -1, -1],[ -1, -1, -1, 1, 1, 1, 1, -1, -1, -1],[ -1, -1, -1, 1, 1, 1, 1, -1, -1, -1],[ -1, -1, -1, 1, 1, 1, 1, -1, -1, -1] ]\n",
    "x2_tw = np.array(sum(x2, []))\n",
    "x3=[ [ 1, 1, 1, 1, 1, 1, 1, 1, -1, -1],[ 1, 1, 1, 1, 1, 1, 1, 1, -1, -1],[ -1, -1, -1, -1, -1, 1, 1, 1, -1, -1],[ -1, -1, -1, -1, -1, 1, 1, 1, -1, -1],[ -1, -1, -1, -1, -1, 1, 1, 1, -1, -1],[ -1, -1, -1, -1, -1, 1, 1, 1, -1, -1],[ -1, -1, -1, -1, -1, 1, 1, 1, -1, -1],[ 1, 1, 1, 1, 1, 1, 1, 1, -1, -1],[ 1, 1, 1, 1, 1, 1, 1, 1, -1, -1],[ 1, 1, 1, -1, -1, -1, -1, -1, -1, -1],[ 1, 1, 1, -1, -1, -1, -1, -1, -1, -1],[ 1, 1, 1, -1, -1, -1, -1, -1, -1, -1],[ 1, 1, 1, -1, -1, -1, -1, -1, -1, -1],[ 1, 1, 1, -1, -1, -1, -1, -1, -1, -1],[ 1, 1, 1, 1, 1, 1, 1, 1, -1, -1],[ 1, 1, 1, 1, 1, 1, 1, 1, -1, -1] ]\n",
    "x3_tw = np.array(sum(x3, []))\n",
    "x4=[ [ -1, -1, 1, 1, 1, 1, 1, 1, -1, -1],[ -1, -1, 1, 1, 1, 1, 1, 1, 1, -1],[ -1, -1, -1, -1, -1, -1, 1, 1, 1, -1],[ -1, -1, -1, -1, -1, -1, 1, 1, 1, -1],[ -1, -1, -1, -1, -1, -1, 1, 1, 1, -1],[ -1, -1, -1, -1, -1, -1, 1, 1, 1, -1],[ -1, -1, -1, -1, -1, -1, 1, 1, 1, -1],[ -1, -1, 1, 1, 1, 1, 1, 1, -1, -1],[ -1, -1, 1, 1, 1, 1, 1, 1, -1, -1],[ -1, -1, -1, -1, -1, -1, 1, 1, 1, -1],[ -1, -1, -1, -1, -1, -1, 1, 1, 1, -1],[ -1, -1, -1, -1, -1, -1, 1, 1, 1, -1],[ -1, -1, -1, -1, -1, -1, 1, 1, 1, -1],[ -1, -1, -1, -1, -1, -1, 1, 1, 1, -1],[ -1, -1, 1, 1, 1, 1, 1, 1, 1, -1],[ -1, -1, 1, 1, 1, 1, 1, 1, -1, -1] ]\n",
    "x4_tw = np.array(sum(x4,[]))\n",
    "x5=[ [ -1, 1, 1, -1, -1, -1, -1, 1, 1, -1],[ -1, 1, 1, -1, -1, -1, -1, 1, 1, -1],[ -1, 1, 1, -1, -1, -1, -1, 1, 1, -1],[ -1, 1, 1, -1, -1, -1, -1, 1, 1, -1],[ -1, 1, 1, -1, -1, -1, -1, 1, 1, -1],[ -1, 1, 1, -1, -1, -1, -1, 1, 1, -1],[ -1, 1, 1, -1, -1, -1, -1, 1, 1, -1],[ -1, 1, 1, 1, 1, 1, 1, 1, 1, -1],[ -1, 1, 1, 1, 1, 1, 1, 1, 1, -1],[ -1, -1, -1, -1, -1, -1, -1, 1, 1, -1],[ -1, -1, -1, -1, -1, -1, -1, 1, 1, -1],[ -1, -1, -1, -1, -1, -1, -1, 1, 1, -1],[ -1, -1, -1, -1, -1, -1, -1, 1, 1, -1],[ -1, -1, -1, -1, -1, -1, -1, 1, 1, -1],[ -1, -1, -1, -1, -1, -1, -1, 1, 1, -1],[ -1, -1, -1, -1, -1, -1, -1, 1, 1, -1] ]\n",
    "x5_tw = np.array(sum(x5, []))\n",
    "    \n",
    "#Create weights matrix according to hebbs rule\n",
    "weights = x1_tw[:,None]*x1_tw\n",
    "for el in (x2_tw, x3_tw, x4_tw, x5_tw):\n",
    "    weights = weights + el[:,None]*el\n",
    "#Divide by the number of neurons\n",
    "weights = np.true_divide(weights, len(x1_tw))\n",
    "np.fill_diagonal(weights,0)\n",
    "\n",
    "def update_epoch(S, w):\n",
    "\n",
    "    changed = False\n",
    "    for i in range(len(S)):\n",
    "        S_i_old = S[i]\n",
    "        #Update a single neuron\n",
    "        S[i] = esign(np.dot(weights[i], S))\n",
    "        #Check if a single neuron has changed\n",
    "        changed = changed or (S_i_old != S[i])\n",
    "    return changed\n",
    "\n",
    "\n",
    "def esign(x):\n",
    "\n",
    "    if(x == 0):\n",
    "        return 1\n",
    "    else:\n",
    "        return np.sign(x)\n"
   ]
  },
  {
   "cell_type": "markdown",
   "metadata": {},
   "source": [
    "## Question 1A"
   ]
  },
  {
   "cell_type": "markdown",
   "metadata": {},
   "source": [
    " Feed this pattern:\n",
    "\n",
    "[[-1, 1, 1, -1, -1, -1, -1, 1, 1, -1], [-1, 1, 1, -1, -1, -1, -1, 1, 1, -1], [-1, 1, 1, -1, -1, -1, -1, 1, 1, -1], [-1, 1, 1, -1, -1, -1, -1, 1, 1, -1], [-1, 1, 1, -1, -1, -1, -1, 1, 1, -1], [-1, 1, 1, -1, -1, -1, -1, 1, 1, -1], [-1, 1, 1, -1, -1, -1, -1, 1, 1, -1], [-1, 1, 1, 1, 1, 1, 1, 1, 1, -1], [-1, 1, 1, 1, 1, 1, 1, 1, 1, -1], [-1, -1, -1, -1, -1, -1, -1, 1, 1, -1], [-1, -1, -1, -1, -1, -1, -1, 1, 1, -1], [-1, -1, -1, -1, -1, -1, -1, 1, 1, -1], [-1, -1, -1, -1, -1, -1, -1, 1, 1, -1], [-1, -1, -1, -1, -1, -1, -1, 1, 1, -1], [1, 1, 1, 1, 1, 1, 1, -1, -1, 1], [1, 1, 1, 1, 1, 1, 1, -1, -1, 1]]\n",
    "\n",
    "The format of the above pattern is $[[S_1,S_2,\\ldots,S_{10}],[S_{11},\\ldots,S_{20}],\\ldots,[S_{151},\\ldots,S_{160}]]$, where [$[S_1,S_2,\\ldots,S_{10}]$ corresponds to the top row, from left to right. "
   ]
  },
  {
   "cell_type": "markdown",
   "metadata": {},
   "source": [
    " Enter the steady pattern that your network reaches when you feed the above pattern: "
   ]
  },
  {
   "cell_type": "code",
   "execution_count": 2,
   "metadata": {},
   "outputs": [
    {
     "data": {
      "text/plain": [
       "array([[-1,  1,  1, -1, -1, -1, -1,  1,  1, -1],\n",
       "       [-1,  1,  1, -1, -1, -1, -1,  1,  1, -1],\n",
       "       [-1,  1,  1, -1, -1, -1, -1,  1,  1, -1],\n",
       "       [-1,  1,  1, -1, -1, -1, -1,  1,  1, -1],\n",
       "       [-1,  1,  1, -1, -1, -1, -1,  1,  1, -1],\n",
       "       [-1,  1,  1, -1, -1, -1, -1,  1,  1, -1],\n",
       "       [-1,  1,  1, -1, -1, -1, -1,  1,  1, -1],\n",
       "       [-1,  1,  1,  1,  1,  1,  1,  1,  1, -1],\n",
       "       [-1,  1,  1,  1,  1,  1,  1,  1,  1, -1],\n",
       "       [-1, -1, -1, -1, -1, -1, -1,  1,  1, -1],\n",
       "       [-1, -1, -1, -1, -1, -1, -1,  1,  1, -1],\n",
       "       [-1, -1, -1, -1, -1, -1, -1,  1,  1, -1],\n",
       "       [-1, -1, -1, -1, -1, -1, -1,  1,  1, -1],\n",
       "       [-1, -1, -1, -1, -1, -1, -1,  1,  1, -1],\n",
       "       [-1, -1, -1, -1, -1, -1, -1,  1,  1, -1],\n",
       "       [-1, -1, -1, -1, -1, -1, -1,  1,  1, -1]])"
      ]
     },
     "execution_count": 2,
     "metadata": {},
     "output_type": "execute_result"
    }
   ],
   "source": [
    "pattern =   [[-1, 1, 1, -1, -1, -1, -1, 1, 1, -1], [-1, 1, 1, -1, -1, -1, -1, 1, 1, -1], [-1, 1, 1, -1, -1, -1, -1, 1, 1, -1], [-1, 1, 1, -1, -1, -1, -1, 1, 1, -1], [-1, 1, 1, -1, -1, -1, -1, 1, 1, -1], [-1, 1, 1, -1, -1, -1, -1, 1, 1, -1], [-1, 1, 1, -1, -1, -1, -1, 1, 1, -1], [-1, 1, 1, 1, 1, 1, 1, 1, 1, -1], [-1, 1, 1, 1, 1, 1, 1, 1, 1, -1], [-1, -1, -1, -1, -1, -1, -1, 1, 1, -1], [-1, -1, -1, -1, -1, -1, -1, 1, 1, -1], [-1, -1, -1, -1, -1, -1, -1, 1, 1, -1], [-1, -1, -1, -1, -1, -1, -1, 1, 1, -1], [-1, -1, -1, -1, -1, -1, -1, 1, 1, -1], [1, 1, 1, 1, 1, 1, 1, -1, -1, 1], [1, 1, 1, 1, 1, 1, 1, -1, -1, 1]] \n",
    "pattern_tw = np.array(sum(pattern, []))\n",
    "loop = update_epoch(pattern_tw, weights)\n",
    "while loop:\n",
    "    loop = update_epoch(pattern_tw, weights)\n",
    "pattern_2d = np.reshape(pattern_tw,(16,10))\n",
    "pattern_2d"
   ]
  },
  {
   "cell_type": "markdown",
   "metadata": {},
   "source": [
    "## Question 1B"
   ]
  },
  {
   "cell_type": "markdown",
   "metadata": {},
   "source": [
    " Classify the pattern you obtained (enter one of the following: ±1,±2,±3,±4,±5,6)"
   ]
  },
  {
   "cell_type": "code",
   "execution_count": 4,
   "metadata": {},
   "outputs": [
    {
     "data": {
      "image/png": "[encoded data removed]",
      "text/plain": [
       "<Figure size 432x288 with 1 Axes>"
      ]
     },
     "metadata": {
      "needs_background": "light"
     },
     "output_type": "display_data"
    }
   ],
   "source": [
    "plt.imshow(-pattern_2d, cmap='gray', vmin=-1, vmax=1)\n",
    "plt.show()\n"
   ]
  },
  {
   "cell_type": "markdown",
   "metadata": {},
   "source": [
    "## Question 2A"
   ]
  },
  {
   "cell_type": "markdown",
   "metadata": {},
   "source": [
    " Feed this pattern (same format as above):\n",
    "\n",
    "[[1, -1, 1, 1, -1, -1, -1, -1, 1, 1], [-1, 1, 1, 1, -1, 1, -1, -1, 1, -1], [-1, 1, -1, -1, -1, 1, -1, 1, -1, 1], [-1, 1, -1, 1, -1, 1, 1, 1, -1, 1], [-1, 1, 1, 1, 1, -1, -1, -1, 1, 1], [1, -1, 1, 1, -1, -1, -1, 1, -1, 1], [1, -1, -1, -1, 1, 1, -1, -1, -1, 1], [1, -1, -1, 1, 1, -1, -1, 1, -1, 1], [1, -1, -1, 1, 1, 1, -1, -1, 1, 1], [1, 1, 1, -1, 1, -1, -1, 1, -1, 1], [1, -1, 1, -1, 1, -1, 1, -1, 1, -1], [1, -1, 1, -1, -1, 1, -1, 1, -1, -1], [1, 1, -1, -1, -1, -1, 1, 1, -1, 1], [-1, 1, -1, -1, -1, 1, -1, 1, -1, 1], [-1, -1, -1, -1, -1, 1, 1, -1, 1, -1], [1, -1, -1, 1, -1, 1, -1, -1, -1, -1]] "
   ]
  },
  {
   "cell_type": "markdown",
   "metadata": {},
   "source": [
    " Enter the steady pattern that your network reaches when you feed the above pattern: "
   ]
  },
  {
   "cell_type": "code",
   "execution_count": 7,
   "metadata": {},
   "outputs": [
    {
     "data": {
      "text/plain": [
       "array([[ 1,  1,  1, -1, -1, -1, -1,  1,  1,  1],\n",
       "       [ 1,  1,  1, -1, -1, -1, -1,  1,  1,  1],\n",
       "       [ 1,  1,  1, -1, -1, -1, -1, -1,  1,  1],\n",
       "       [ 1,  1,  1, -1,  1, -1, -1, -1,  1,  1],\n",
       "       [ 1,  1,  1, -1,  1, -1, -1, -1,  1,  1],\n",
       "       [ 1,  1,  1, -1,  1, -1, -1, -1,  1,  1],\n",
       "       [ 1,  1,  1, -1,  1, -1, -1, -1,  1,  1],\n",
       "       [ 1,  1, -1, -1, -1, -1, -1, -1,  1,  1],\n",
       "       [ 1,  1, -1, -1, -1, -1, -1, -1,  1,  1],\n",
       "       [ 1,  1,  1, -1,  1,  1, -1,  1,  1,  1],\n",
       "       [ 1,  1,  1, -1,  1,  1, -1,  1,  1,  1],\n",
       "       [ 1,  1,  1, -1,  1,  1, -1,  1,  1,  1],\n",
       "       [ 1,  1,  1, -1,  1,  1, -1,  1,  1,  1],\n",
       "       [ 1,  1,  1, -1, -1, -1, -1,  1,  1,  1],\n",
       "       [ 1,  1,  1, -1, -1, -1, -1,  1,  1,  1],\n",
       "       [ 1,  1,  1, -1, -1, -1, -1,  1,  1,  1]])"
      ]
     },
     "execution_count": 7,
     "metadata": {},
     "output_type": "execute_result"
    }
   ],
   "source": [
    "pattern =  [[1, -1, 1, 1, -1, -1, -1, -1, 1, 1], [-1, 1, 1, 1, -1, 1, -1, -1, 1, -1], [-1, 1, -1, -1, -1, 1, -1, 1, -1, 1], [-1, 1, -1, 1, -1, 1, 1, 1, -1, 1], [-1, 1, 1, 1, 1, -1, -1, -1, 1, 1], [1, -1, 1, 1, -1, -1, -1, 1, -1, 1], [1, -1, -1, -1, 1, 1, -1, -1, -1, 1], [1, -1, -1, 1, 1, -1, -1, 1, -1, 1], [1, -1, -1, 1, 1, 1, -1, -1, 1, 1], [1, 1, 1, -1, 1, -1, -1, 1, -1, 1], [1, -1, 1, -1, 1, -1, 1, -1, 1, -1], [1, -1, 1, -1, -1, 1, -1, 1, -1, -1], [1, 1, -1, -1, -1, -1, 1, 1, -1, 1], [-1, 1, -1, -1, -1, 1, -1, 1, -1, 1], [-1, -1, -1, -1, -1, 1, 1, -1, 1, -1], [1, -1, -1, 1, -1, 1, -1, -1, -1, -1]] \n",
    "pattern_tw = np.array(sum(pattern, []))\n",
    "loop = update_epoch(pattern_tw, weights)\n",
    "while loop:\n",
    "    loop = update_epoch(pattern_tw, weights)\n",
    "pattern_2d = np.reshape(pattern_tw,(16,10))\n",
    "pattern_2d"
   ]
  },
  {
   "cell_type": "markdown",
   "metadata": {},
   "source": [
    "## Question 2B"
   ]
  },
  {
   "cell_type": "markdown",
   "metadata": {},
   "source": [
    " Classify the pattern you obtained (enter one of the following: ±1,±2,±3,±4,±5,6)"
   ]
  },
  {
   "cell_type": "code",
   "execution_count": 8,
   "metadata": {},
   "outputs": [
    {
     "data": {
      "image/png": "[encoded data removed]",
      "text/plain": [
       "<Figure size 432x288 with 1 Axes>"
      ]
     },
     "metadata": {
      "needs_background": "light"
     },
     "output_type": "display_data"
    }
   ],
   "source": [
    "plt.imshow(-pattern_2d, cmap='gray', vmin=-1, vmax=1)\n",
    "plt.show()"
   ]
  },
  {
   "cell_type": "markdown",
   "metadata": {},
   "source": [
    "## Question 3A"
   ]
  },
  {
   "cell_type": "markdown",
   "metadata": {},
   "source": [
    " Feed this pattern (same format as above):\n",
    "\n",
    "[[-1, -1, -1, -1, -1, -1, -1, -1, -1, -1], [-1, -1, -1, 1, 1, 1, 1, -1, -1, -1], [-1, -1, 1, 1, 1, 1, 1, 1, -1, -1], [-1, 1, 1, 1, -1, -1, 1, 1, 1, -1], [-1, 1, 1, 1, -1, -1, 1, 1, 1, -1], [-1, 1, 1, 1, -1, -1, 1, 1, 1, -1], [-1, 1, 1, 1, -1, -1, 1, 1, 1, -1], [-1, 1, 1, 1, -1, -1, 1, 1, 1, -1], [-1, 1, 1, 1, -1, -1, 1, 1, 1, -1], [-1, 1, 1, 1, -1, -1, 1, 1, 1, -1], [-1, 1, 1, 1, -1, -1, 1, 1, 1, -1], [-1, 1, 1, 1, -1, -1, 1, 1, 1, -1], [-1, 1, 1, 1, -1, -1, 1, 1, 1, -1], [-1, -1, 1, 1, 1, 1, 1, 1, -1, -1], [1, 1, 1, -1, -1, -1, -1, 1, 1, 1], [1, 1, 1, 1, 1, 1, 1, 1, 1, 1]] "
   ]
  },
  {
   "cell_type": "markdown",
   "metadata": {},
   "source": [
    " Enter the steady pattern that your network reaches when you feed the above pattern: "
   ]
  },
  {
   "cell_type": "code",
   "execution_count": 11,
   "metadata": {},
   "outputs": [
    {
     "data": {
      "text/plain": [
       "array([[-1, -1, -1, -1, -1, -1, -1, -1, -1, -1],\n",
       "       [-1, -1, -1,  1,  1,  1,  1, -1, -1, -1],\n",
       "       [-1, -1,  1,  1,  1,  1,  1,  1, -1, -1],\n",
       "       [-1,  1,  1,  1, -1, -1,  1,  1,  1, -1],\n",
       "       [-1,  1,  1,  1, -1, -1,  1,  1,  1, -1],\n",
       "       [-1,  1,  1,  1, -1, -1,  1,  1,  1, -1],\n",
       "       [-1,  1,  1,  1, -1, -1,  1,  1,  1, -1],\n",
       "       [-1,  1,  1,  1, -1, -1,  1,  1,  1, -1],\n",
       "       [-1,  1,  1,  1, -1, -1,  1,  1,  1, -1],\n",
       "       [-1,  1,  1,  1, -1, -1,  1,  1,  1, -1],\n",
       "       [-1,  1,  1,  1, -1, -1,  1,  1,  1, -1],\n",
       "       [-1,  1,  1,  1, -1, -1,  1,  1,  1, -1],\n",
       "       [-1,  1,  1,  1, -1, -1,  1,  1,  1, -1],\n",
       "       [-1, -1,  1,  1,  1,  1,  1,  1, -1, -1],\n",
       "       [-1, -1, -1,  1,  1,  1,  1, -1, -1, -1],\n",
       "       [-1, -1, -1, -1, -1, -1, -1, -1, -1, -1]])"
      ]
     },
     "execution_count": 11,
     "metadata": {},
     "output_type": "execute_result"
    }
   ],
   "source": [
    "pattern =  [[-1, -1, -1, -1, -1, -1, -1, -1, -1, -1], [-1, -1, -1, 1, 1, 1, 1, -1, -1, -1], [-1, -1, 1, 1, 1, 1, 1, 1, -1, -1], [-1, 1, 1, 1, -1, -1, 1, 1, 1, -1], [-1, 1, 1, 1, -1, -1, 1, 1, 1, -1], [-1, 1, 1, 1, -1, -1, 1, 1, 1, -1], [-1, 1, 1, 1, -1, -1, 1, 1, 1, -1], [-1, 1, 1, 1, -1, -1, 1, 1, 1, -1], [-1, 1, 1, 1, -1, -1, 1, 1, 1, -1], [-1, 1, 1, 1, -1, -1, 1, 1, 1, -1], [-1, 1, 1, 1, -1, -1, 1, 1, 1, -1], [-1, 1, 1, 1, -1, -1, 1, 1, 1, -1], [-1, 1, 1, 1, -1, -1, 1, 1, 1, -1], [-1, -1, 1, 1, 1, 1, 1, 1, -1, -1], [1, 1, 1, -1, -1, -1, -1, 1, 1, 1], [1, 1, 1, 1, 1, 1, 1, 1, 1, 1]] \n",
    "pattern_tw = np.array(sum(pattern, []))\n",
    "loop = update_epoch(pattern_tw, weights)\n",
    "while loop:\n",
    "    loop = update_epoch(pattern_tw, weights)\n",
    "pattern_2d = np.reshape(pattern_tw,(16,10))\n",
    "pattern_2d\n"
   ]
  },
  {
   "cell_type": "markdown",
   "metadata": {},
   "source": [
    "## Question 3B "
   ]
  },
  {
   "cell_type": "markdown",
   "metadata": {},
   "source": [
    " Classify the pattern you obtained (enter one of the following: ±1,±2,±3,±4,±5,6)"
   ]
  },
  {
   "cell_type": "code",
   "execution_count": 12,
   "metadata": {},
   "outputs": [
    {
     "data": {
      "image/png": "[encoded data removed]",
      "text/plain": [
       "<Figure size 432x288 with 1 Axes>"
      ]
     },
     "metadata": {
      "needs_background": "light"
     },
     "output_type": "display_data"
    }
   ],
   "source": [
    "plt.imshow(-pattern_2d, cmap='gray', vmin=-1, vmax=1)\n",
    "plt.show()"
   ]
  },
  {
   "cell_type": "code",
   "execution_count": null,
   "metadata": {},
   "outputs": [],
   "source": []
  }
 ],
 "metadata": {
  "kernelspec": {
   "display_name": "Python 3",
   "language": "python",
   "name": "python3"
  },
  "language_info": {
   "codemirror_mode": {
    "name": "ipython",
    "version": 3
   },
   "file_extension": ".py",
   "mimetype": "text/x-python",
   "name": "python",
   "nbconvert_exporter": "python",
   "pygments_lexer": "ipython3",
   "version": "3.7.3"
  }
 },
 "nbformat": 4,
 "nbformat_minor": 2
}
