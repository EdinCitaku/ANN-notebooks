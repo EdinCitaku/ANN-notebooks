{
 "cells": [
  {
   "cell_type": "markdown",
   "metadata": {},
   "source": [
    "# Fully connected networks\n",
    "\n",
    "In this exercise you are to write computer programs implementing perceptrons with LLL fully connected layers. The perceptrons differ in their layouts: in the number L of layers, and in the number of neurons in the hidden layers $\\ell=1,\\ldots,L-1$:\n",
    "\n",
    "Network 1: No hidden layers (L=1)\n",
    "\n",
    "Network 2: One hidden layer with 10 neurons\n",
    "\n",
    "Network 3: One hidden layer with 50 neurons\n",
    "\n",
    "Network 4: Two hidden layers with 50 neurons each\n",
    "\n",
    "The networks are to be trained on CIFAR-10 data, and therefore they should have 3072 input units and 10 output units. Additional properties of the networks, and the training you should perform is specified in the following list. For definitions of the quantities discussed, read chapter 6 of the lecture notes.\n",
    "\n",
    "$\\bullet$ Before you start training your networks, center the input data around zero. For each data set, subtract the mean input of the training set from all inputs: $\\underline{X}^{(\\mu)} = \\underline{x}^{(\\mu)} - \\left \\langle \\underline{x} \\right \\rangle_\\text{train}$. Here $\\underline{x}^{(\\mu)}$ is an input pattern before centering and $\\left \\langle \\underline{x} \\right \\rangle_\\text{train} = \\frac{1}{p}\\sum_{\\nu=1}^p \\underline{x}^{(\\nu)}$, where the summation is over all ppp patterns in the training set. Note: to shift the data in the validation and test sets, you use the mean input of the training set.\n",
    "\n",
    "$\\bullet$ Use the energy function $H = \\frac{1}{2} \\sum_{\\mu,i} (t_i^{(\\mu)}-O_i^{(\\mu)})^2$. Train the network using stochastic gradient descent with mini-batch size $m_B = 100$.\n",
    "\n",
    "$\\bullet$ Train the network for 20 epochs. Shuffle the training set into a random permutation at the start of each epoch.\n",
    "\n",
    "$\\bullet$ Use a learning rate of $\\eta = 0.1$. For each mini-batch, the increment of a weight $w_{mn}^{(\\ell)}$ in layer $\\ell$ is given by $\\delta w_{mn}^{(\\ell)} = \\eta \\sum_{\\mu=1}^{m_B}\\delta_m^{(\\ell,\\mu)}V_n^{(\\ell-1,\\mu)}$, where the summation is over the patterns in the mini-batch. Here, $\\delta_m^{(\\ell,\\mu)}$ denotes the error of the $m^\\text{th}$ neuron in the $\\ell^\\text{th}$ layer evaluated for the $\\mu^\\text{th}$ pattern in the mini-batch. The state of the $n^\\text{th}$ neuron in the $(\\ell-1)^\\text{th}$ layer evaluated for pattern $\\mu$ is denoted by $V_n^{(\\ell-1,\\mu)}$.\n",
    "\n",
    "$\\bullet$ Use neither regularization nor momentum.\n",
    "\n",
    "$\\bullet$ Use sigmoid activation functions $\\sigma(b) = [1+\\exp(-b)]^{-1}$ for layers $\\ell=1,\\ldots$.\n",
    "\n",
    "$\\bullet$ Initialize the weights feeding into a given neuron from a Gaussian distribution with zero mean and standard deviation equal to one over the square root of the number of weights feeding into this neuron. Initialize all thresholds to zero.\n",
    "\n",
    "$\\bullet$ Train using the training set to compute gradients. While training keep track of the classification errors for training and validation set. Record these two classification errors as well as the weights and thresholds at the start of every epoch. After 20 epochs, take the weights and thresholds that give the smallest classfication error for the validation set as your training result.\n",
    "\n",
    "$\\bullet$ After training, test your results by classifying the images in the test set using the weights and thresholds obtained above: Compute the classification error for the test set. "
   ]
  },
  {
   "cell_type": "markdown",
   "metadata": {},
   "source": [
    "Intialize all the functions"
   ]
  },
  {
   "cell_type": "code",
   "execution_count": 1,
   "metadata": {},
   "outputs": [],
   "source": [
    "import numpy as np\n",
    "from numpy import random as rnd\n",
    "import csv\n",
    "import matplotlib.pyplot as plt\n",
    "\n",
    "def unpickle(file):\n",
    "    \"Returns an a dictionary of a single batch, if filename is correct\"\n",
    "    import pickle\n",
    "    with open(file, 'rb') as fo:\n",
    "        dict = pickle.load(fo, encoding='bytes')\n",
    "    return dict\n",
    "\n",
    "\n",
    "def calculate_mean(x_train):\n",
    "    \"Calculate the mean of a set of training data\"\n",
    "    mean = np.mean(x_train,axis=0)\n",
    "    return mean\n",
    "\n",
    "\n",
    "def center_data(x_train):\n",
    "    \n",
    "    mean = calculate_mean(x_train)\n",
    "    centered_data = x_train - mean\n",
    "    centered_data /= 255\n",
    "    return centered_data\n",
    "\n",
    "def sigmoid_activation_function(b):\n",
    "\n",
    "    \n",
    "    return np.power((1+np.exp(-b)), -1)\n",
    "\n",
    "\n",
    "def shuffle(X, y):\n",
    "    '''\n",
    "    Shuffle two corresponding arrays\n",
    "    '''\n",
    "    assert len(X) == len(y)\n",
    "    random = np.arange(len(X))\n",
    "    np.random.shuffle(random)\n",
    "    X = X[random]\n",
    "    y = y[random]\n",
    "    return X, y\n",
    "\n",
    "\n",
    "def g(b):\n",
    "    \n",
    "    return sigmoid_activation_function(b)\n",
    "\n",
    "def dg(b):\n",
    "    \n",
    "    o_b = sigmoid_activation_function(b)\n",
    "    return o_b*(1-o_b)\n",
    "\n",
    "def create_layer(inputsize, layersize):\n",
    "    \n",
    "    neurons = np.zeros((layersize,1))\n",
    "    neurons = neurons.reshape(layersize,1)\n",
    "    w_ij = rnd.normal(size=(layersize, inputsize),scale= (1/(np.sqrt(inputsize))))\n",
    "    return (neurons, w_ij)\n",
    "\n",
    "def esign(i):\n",
    "    if i == 0:\n",
    "        return 1\n",
    "    return np.sign(i)\n",
    "\n",
    "def calculate_output(threshold, weight_matrix, x):\n",
    "    \n",
    "    if weight_matrix.shape[1]==1:\n",
    "        weight_matrix = weight_matrix.T\n",
    "    inner_sum = weight_matrix@x\n",
    "    inner_sum = inner_sum - threshold\n",
    "    ret = g(inner_sum)\n",
    "    assert(ret.shape == threshold.shape)\n",
    "    return ret\n",
    "\n",
    "def calculate_output_batch(threshold, weight_matrix, V, batchsize):\n",
    "    \n",
    "    \n",
    "    inner_sum = weight_matrix@V\n",
    "    inner_sum = inner_sum.reshape((threshold.shape[0],batchsize))\n",
    "    inner_sum = inner_sum - threshold\n",
    "    ret = g(inner_sum)\n",
    "    assert(ret.shape == (threshold.shape[0],batchsize))\n",
    "    return ret\n",
    "\n",
    "\n",
    "\n",
    "def propagate_forward(V : list, O : list, w : list, batchsize : int) -> None:\n",
    "\n",
    "    assert(len(V)-1==len(O) and len(O)==len(w))\n",
    "\n",
    "    for l in range(1,len(V)):\n",
    "        V[l]= calculate_output_batch(O[l-1],w[l-1],V[l-1], batchsize)\n",
    "\n",
    "\n",
    "def calculate_b(w, x, O):\n",
    "    inner_sum = np.dot(w,x)\n",
    "    inner_sum = inner_sum - O\n",
    "    return inner_sum\n",
    "\n",
    "def calculate_d_L(b, t, V):\n",
    "    \n",
    "    return dg(b)(t-V)\n",
    "\n",
    "def calculate_single_d(d_l, w, b):\n",
    "    \n",
    "    dgb = dg(b)\n",
    "    inner_product = (d_l.T@w).T\n",
    "    ret = np.multiply(inner_product,dgb)\n",
    "    return ret\n",
    "\n",
    "\n",
    "def calculate_all_d(V, O, w, t):\n",
    "    \n",
    "    L = len(O)-1\n",
    "    b_L = calculate_b(w[L],V[L], O[L])\n",
    "    b_L = dg(b_L)\n",
    "    temp = (t-V[-1])\n",
    "    delta_start = b_L*temp\n",
    "    d = [[]]*(L+1)\n",
    "    d[L] = delta_start\n",
    "    for i in range(L, 0, -1):\n",
    "        if(w[i].shape[1]==1):\n",
    "            w[i] = w[i].T\n",
    "\n",
    "        b =  calculate_b(w[i-1],V[i-1],O[i-1])\n",
    "        delta = calculate_single_d(d[i],w[i],b)\n",
    "        d[i-1] = delta\n",
    "    return d\n",
    "\n",
    "\n",
    "\n",
    "def propagate_backwards(V : list, O : list, w : list, t : int, learning_rate: float, batchsize : int):\n",
    "\n",
    "    L = len(w)\n",
    "    d = calculate_all_d(V,O,w,t) \n",
    "    for l in range(L):\n",
    "        if(w[l].shape[1]==1):\n",
    "            d_w = learning_rate*(d[l]@V[l])\n",
    "        else:\n",
    "            d_w = learning_rate*(d[l]@V[l].T)\n",
    "        d_O = learning_rate* (d[l]@np.ones((batchsize,1)))\n",
    "        w[l] +=  d_w\n",
    "        O[l] -= d_O\n",
    "\n",
    "\n",
    "def create_multible_layers(*argv):\n",
    "    \n",
    "    w = []\n",
    "    V = []\n",
    "    O = []\n",
    "    inputlayer = np.zeros((argv[0],1))\n",
    "    V.append(inputlayer)\n",
    "    old_layersize = argv[0]\n",
    "    for layersize in argv[1:]:\n",
    "        O_i = np.zeros((layersize,1))\n",
    "        V_i, w_i = create_layer(old_layersize,layersize)\n",
    "        old_layersize = layersize    \n",
    "        w.append(w_i)\n",
    "        V.append(V_i)\n",
    "        O.append(O_i)\n",
    "    return (w,V,O)\n",
    "\n",
    "\n",
    "def learn(learning_rate:float, data: list, labels: list,test_data : list, test_labels : list, batchsize: int, *argv):\n",
    "\n",
    "    w,V,O = create_multible_layers(*argv)\n",
    "    return_w = []\n",
    "    return_c = []\n",
    "    return_O = []\n",
    "    for T in range(20):\n",
    "        #Permutate the data in the beginning of each epoch\n",
    "        data,labels = shuffle(data,labels)\n",
    "        for i in range(0, len(data), batchsize):\n",
    "            my = i\n",
    "            bs = batchsize\n",
    "            if my + batchsize >= len(data):\n",
    "                bs =  len(data) - my\n",
    "            V[0] = np.array(data[my:my+bs]).T\n",
    "            t = np.array(labels[my:my+bs]).T            \n",
    "            propagate_forward(V,O,w, bs)\n",
    "            propagate_backwards(V,O,w,t,learning_rate, bs)\n",
    "        C = calculate_classification_error(V,w,O,test_data, test_labels)\n",
    "        return_c.append(C)\n",
    "        return_w.append(w)\n",
    "        return_O.append(O)\n",
    "    print(\"Finished learning!\")\n",
    "    return return_c, return_w, V, return_O\n",
    "        \n",
    "\n",
    "def calculate_classification_error(V,w,O, test_data, test_labels):\n",
    "    \n",
    "    inner_sum = 0\n",
    "    pval = len(test_data)\n",
    "    for my in range(pval):\n",
    "        V[0] = np.array(test_data[my])\n",
    "        t_my = test_labels[my]\n",
    "        propagate_forward(V,O,w,1)\n",
    "        y_i = np.argmax(V[-1],axis=0)\n",
    "        y = np.zeros((len(V[-1]),1))\n",
    "        y[y_i] = 1\n",
    "        inner_sum += np.sum(np.abs(y-t_my))\n",
    "    return inner_sum/(2*pval)\n",
    "\n",
    "\n",
    "\n",
    "def transformlabels(labels, n):\n",
    "    \n",
    "    for i,label in enumerate(labels):\n",
    "        temp = np.zeros((n,1))\n",
    "        temp[label] = 1\n",
    "        labels[i] = temp\n",
    "\n"
   ]
  },
  {
   "cell_type": "markdown",
   "metadata": {},
   "source": [
    "Load the data"
   ]
  },
  {
   "cell_type": "code",
   "execution_count": null,
   "metadata": {},
   "outputs": [],
   "source": [
    "\n",
    "folder_name = \"../data/cifar-10-batches-py/\"\n",
    "batch_1 = unpickle(folder_name+\"data_batch_1\")\n",
    "batch_2 = unpickle(folder_name+\"data_batch_2\")\n",
    "batch_3 = unpickle(folder_name+\"data_batch_3\")\n",
    "batch_4 = unpickle(folder_name+\"data_batch_4\")\n",
    "batch_5 = unpickle(folder_name+\"data_batch_5\")\n",
    "\n",
    "data = batch_1[b'data']\n",
    "data = np.append(data,batch_2[b'data'], axis=0)\n",
    "data = np.append(data,batch_3[b'data'], axis=0)\n",
    "data = np.append(data,batch_4[b'data'], axis=0)\n",
    "#data = np.append(data,batch_5[b'data'], axis=0)\n",
    "labels = batch_1[b'labels']\n",
    "#Since labels are only a normal array\n",
    "labels += batch_2[b'labels']\n",
    "labels += batch_3[b'labels']\n",
    "labels += batch_4[b'labels']\n",
    "#labels += batch_5[b'labels']\n",
    "data = center_data(data)\n",
    "transformlabels(labels,10)\n",
    "labels = np.array(labels)\n",
    "labels = labels.astype(np.uint8)\n",
    "labels = np.array(labels).reshape(40000,10)\n",
    "test_batch = unpickle(folder_name+\"test_batch\")\n",
    "test_data = batch_5[b'data']\n",
    "test_labels = batch_5[b'labels']\n",
    "test_data = center_data(test_data)\n",
    "transformlabels(test_labels,10)\n",
    "test_labels = np.array(test_labels)\n",
    "\n",
    "test_labels = test_labels.astype(np.uint8)\n",
    "\n",
    "\n",
    "minibatch_size = 100\n",
    "learning_rate = 0.1\n"
   ]
  },
  {
   "cell_type": "markdown",
   "metadata": {},
   "source": [
    "Network 1"
   ]
  },
  {
   "cell_type": "code",
   "execution_count": 2,
   "metadata": {},
   "outputs": [
    {
     "name": "stdout",
     "output_type": "stream",
     "text": [
      "Finished learning!\n"
     ]
    },
    {
     "data": {
      "text/plain": [
       "[<matplotlib.lines.Line2D at 0x7f5264f80198>]"
      ]
     },
     "execution_count": 2,
     "metadata": {},
     "output_type": "execute_result"
    },
    {
     "data": {
      "image/png": "[encoded data removed]",
      "text/plain": [
       "<Figure size 432x288 with 1 Axes>"
      ]
     },
     "metadata": {
      "needs_background": "light"
     },
     "output_type": "display_data"
    }
   ],
   "source": [
    "c1,w1, V1,O1 = learn(learning_rate,data,labels,test_data, test_labels, minibatch_size, 3072,10)\n",
    "plt.plot(c1, color=\"blue\",label=\"Network 1\")\n",
    "\n"
   ]
  },
  {
   "cell_type": "markdown",
   "metadata": {},
   "source": [
    "Network 2"
   ]
  },
  {
   "cell_type": "code",
   "execution_count": 3,
   "metadata": {},
   "outputs": [
    {
     "name": "stdout",
     "output_type": "stream",
     "text": [
      "Finished learning!\n"
     ]
    },
    {
     "data": {
      "text/plain": [
       "[<matplotlib.lines.Line2D at 0x7f5264847b38>]"
      ]
     },
     "execution_count": 3,
     "metadata": {},
     "output_type": "execute_result"
    },
    {
     "data": {
      "image/png": "[encoded data removed]",
      "text/plain": [
       "<Figure size 432x288 with 1 Axes>"
      ]
     },
     "metadata": {
      "needs_background": "light"
     },
     "output_type": "display_data"
    }
   ],
   "source": [
    "c2,w2,V2,O2 = learn(learning_rate,data,labels,test_data, test_labels, minibatch_size, 3072,10,10)\n",
    "plt.plot(c2, color = \"red\", label = \"Network 2\")\n"
   ]
  },
  {
   "cell_type": "markdown",
   "metadata": {},
   "source": [
    "Network 3"
   ]
  },
  {
   "cell_type": "code",
   "execution_count": 4,
   "metadata": {},
   "outputs": [
    {
     "name": "stdout",
     "output_type": "stream",
     "text": [
      "Finished learning!\n"
     ]
    },
    {
     "data": {
      "text/plain": [
       "[<matplotlib.lines.Line2D at 0x7f52647b2cc0>]"
      ]
     },
     "execution_count": 4,
     "metadata": {},
     "output_type": "execute_result"
    },
    {
     "data": {
      "image/png": "[encoded data removed]",
      "text/plain": [
       "<Figure size 432x288 with 1 Axes>"
      ]
     },
     "metadata": {
      "needs_background": "light"
     },
     "output_type": "display_data"
    }
   ],
   "source": [
    "c3,w3,V3,O3 = learn(learning_rate,data,labels,test_data, test_labels, minibatch_size, 3072,50,10)\n",
    "plt.plot(c3, color = \"brown\", label = \"Network 3\")\n"
   ]
  },
  {
   "cell_type": "markdown",
   "metadata": {},
   "source": [
    "Network 4"
   ]
  },
  {
   "cell_type": "code",
   "execution_count": 5,
   "metadata": {},
   "outputs": [
    {
     "name": "stdout",
     "output_type": "stream",
     "text": [
      "Finished learning!\n"
     ]
    },
    {
     "data": {
      "text/plain": [
       "[<matplotlib.lines.Line2D at 0x7f526479a8d0>]"
      ]
     },
     "execution_count": 5,
     "metadata": {},
     "output_type": "execute_result"
    },
    {
     "data": {
      "image/png": "[encoded data removed]",
      "text/plain": [
       "<Figure size 432x288 with 1 Axes>"
      ]
     },
     "metadata": {
      "needs_background": "light"
     },
     "output_type": "display_data"
    }
   ],
   "source": [
    "c4,w4,V4,O4 = learn(learning_rate,data,labels,test_data, test_labels, minibatch_size, 3072,50,50,10)\n",
    "plt.plot(c4, color = \"green\", label = \"Network 4\")\n"
   ]
  },
  {
   "cell_type": "markdown",
   "metadata": {},
   "source": [
    "Let's compare the graphs"
   ]
  },
  {
   "cell_type": "code",
   "execution_count": 6,
   "metadata": {},
   "outputs": [
    {
     "data": {
      "image/png": "[encoded data removed]",
      "text/plain": [
       "<Figure size 432x288 with 1 Axes>"
      ]
     },
     "metadata": {
      "needs_background": "light"
     },
     "output_type": "display_data"
    }
   ],
   "source": [
    "plt.yscale(\"log\")\n",
    "plt.plot(c1, color=\"blue\",label=\"Network 1\")\n",
    "plt.plot(c2, color = \"red\", label = \"Network 2\")\n",
    "plt.plot(c3, color = \"brown\", label = \"Network 3\")\n",
    "plt.plot(c4, color = \"green\", label = \"Network 4\")\n",
    "plt.legend()\n",
    "plt.show()\n"
   ]
  },
  {
   "cell_type": "markdown",
   "metadata": {},
   "source": [
    "Let's compare the Classification errors"
   ]
  },
  {
   "cell_type": "code",
   "execution_count": 12,
   "metadata": {
    "scrolled": false
   },
   "outputs": [
    {
     "name": "stdout",
     "output_type": "stream",
     "text": [
      "  Network    best epoch    C validation set    C test set    C training set\n",
      "---------  ------------  ------------------  ------------  ----------------\n",
      "        1            16              0.6219        0.6304                 9\n",
      "        2             7              0.6034        0.6048                 9\n",
      "        3            17              0.5511        0.5559                 9\n",
      "        4            19              0.5349        0.5356                 9\n"
     ]
    }
   ],
   "source": [
    "def calculate_table_entries(C,w,V,O, showcase_data, showcase_labels):\n",
    "    max_i = np.argmin(C,axis=0)\n",
    "    classif_error_test = calculate_classification_error(V,w[max_i],O[max_i],showcase_data, showcase_labels)\n",
    "    classif_error_train = calculate_classification_error(V,w[max_i],O[max_i],data, labels)\n",
    "    return [max_i, C[max_i], classif_error_test,classif_error_train]\n",
    "    \n",
    "    \n",
    "batch_showcase = batch_1 = unpickle(folder_name+\"test_batch\")\n",
    "showcase_data = batch_showcase[b'data']\n",
    "showcase_labels = batch_showcase[b'labels']\n",
    "showcase_data = center_data(showcase_data)\n",
    "transformlabels(showcase_labels,10)\n",
    "\n",
    "from tabulate import tabulate\n",
    "column1 = [1] + calculate_table_entries(c1,w1,V1,O1,showcase_data, showcase_labels)\n",
    "column2 = [2] + calculate_table_entries(c2,w2,V2,O2,showcase_data, showcase_labels)\n",
    "column3 = [3] + calculate_table_entries(c3,w3,V3,O3,showcase_data, showcase_labels)\n",
    "column4 = [4] + calculate_table_entries(c4,w4,V4,O4,showcase_data, showcase_labels)\n",
    "columnlabels = [\"Network\",\"best epoch\", \"C validation set\", \"C test set\", \"C training set\"]\n",
    "rowlabels = [\"network 1\", \"network 2\", \"network 3\", \"network 4\"]\n",
    "print(tabulate([column1, column2, column3,column4], headers=columnlabels))"
   ]
  },
  {
   "cell_type": "markdown",
   "metadata": {},
   "source": [
    "# Discussion"
   ]
  },
  {
   "cell_type": "markdown",
   "metadata": {},
   "source": [
    "It is clear that the addition of a second layer improves the learning performance significant, while adding neurons to a layer did not show a big boost in performance for the case of a hidden layer size of 1 and 2.\n",
    "The classification error of the test set is slightly less than of the validation set, pointing to the possibility of overfitting.\n",
    "The data shows, that added complexity does not necessarily result in improved performance. Furthermore it shows that it is easy to overfit a network and one should be vary when analyzing their results."
   ]
  },
  {
   "cell_type": "code",
   "execution_count": null,
   "metadata": {},
   "outputs": [],
   "source": []
  }
 ],
 "metadata": {
  "kernelspec": {
   "display_name": "Python 3",
   "language": "python",
   "name": "python3"
  },
  "language_info": {
   "codemirror_mode": {
    "name": "ipython",
    "version": 3
   },
   "file_extension": ".py",
   "mimetype": "text/x-python",
   "name": "python",
   "nbconvert_exporter": "python",
   "pygments_lexer": "ipython3",
   "version": "3.7.3"
  }
 },
 "nbformat": 4,
 "nbformat_minor": 2
}
