{
 "cells": [
  {
   "cell_type": "markdown",
   "metadata": {},
   "source": [
    "# One-step error probability"
   ]
  },
  {
   "cell_type": "markdown",
   "metadata": {
    "tags": [
     "remove_cell"
    ]
   },
   "source": [
    " Write a computer program implementing asynchronous deterministic updates for a Hopfield network. Use Hebb's rule with $w_{ii}=0$. Generate and store p=[12,24,48,70,100,120] random patterns with N=120 bits. Each bit is either +1 or -1 with probability $\\tfrac{1}{2}$.\n",
    "\n",
    "For each value of ppp estimate the one-step error probability $P_{\\text {error}}^{t=1}$ based on $10^5$ independent trials. Here, one trial means that you generate and store a set of p random patterns, feed one of them, and perform one asynchronous update of a single randomly chosen neuron. If in some trials you encounter sgn(0), simply set sgn(0)=1.\n",
    "\n",
    "List below the values of $P_{\\text {error}}^{t=1}$ that you obtained in the following form: [$p_1,p_2,\\ldots,p_{6}$], where $p_n$ is the value of $P_{\\text {error}}^{t=1}$ for the n-th value of p from the list above. Give four decimal places for each $p_n$"
   ]
  },
  {
   "cell_type": "code",
   "execution_count": 1,
   "metadata": {},
   "outputs": [],
   "source": [
    "import numpy as np\n",
    "import time\n",
    "def calculate_instance( n, p, zero_diagonal):\n",
    "    #Create p random patterns\n",
    "    patterns = []\n",
    "    \n",
    "    for i in range(p):\n",
    "        patterns.append(np.random.choice([-1,1],n))\n",
    "    #Create weights matrix according to hebbs rule\n",
    "    weights = patterns[0][:,None]*patterns[0]\n",
    "    for el in patterns[1:]:\n",
    "        weights = weights + el[:,None]*el\n",
    "    weights = np.true_divide(weights, n)\n",
    "    \n",
    "    #Fill diagonal with zeroes\n",
    "    if zero_diagonal:\n",
    "        np.fill_diagonal(weights,0)\n",
    "    #Feed random pattern as input and test if an error occurs\n",
    "    S1 = patterns[0]\n",
    "    chosen_i = np.random.choice(range(n))\n",
    "    S_i_old = S1[chosen_i]\n",
    "\n",
    "    S_i = esign(np.dot(weights[chosen_i], S1))\n",
    "    #breakpoint()\n",
    "    return S_i_old == S_i\n",
    "\n",
    "def esign(x):\n",
    "\n",
    "    if(x == 0):\n",
    "        return 1\n",
    "    else:\n",
    "        return np.sign(x)\n"
   ]
  },
  {
   "cell_type": "markdown",
   "metadata": {
    "tags": [
     "remove_cell"
    ]
   },
   "source": [
    "List your numerically computed $P_{\\text {error}}^{t=1}$ for the parameters given above. "
   ]
  },
  {
   "cell_type": "code",
   "execution_count": 3,
   "metadata": {},
   "outputs": [
    {
     "name": "stdout",
     "output_type": "stream",
     "text": [
      "Number of patterns: 12, P_error(t=1): 0.00057 \n",
      "Number of patterns: 24, P_error(t=1): 0.01143 \n",
      "Number of patterns: 48, P_error(t=1): 0.05569 \n",
      "Number of patterns: 70, P_error(t=1): 0.09447 \n",
      "Number of patterns: 100, P_error(t=1): 0.13699 \n",
      "Number of patterns: 120, P_error(t=1): 0.15952 \n"
     ]
    }
   ],
   "source": [
    "p = [12, 24, 48, 70, 100, 120]\n",
    "N = 120\n",
    "I = 100000\n",
    "for p_i in p:\n",
    "    solve = [0,0]\n",
    "    for i in range(I):\n",
    "        ret = calculate_instance(N, p_i, True)\n",
    "        if ret:\n",
    "            solve[0]+=1\n",
    "        else:\n",
    "            solve[1]+=1\n",
    "    p_error = float(solve[1]/I) \n",
    "    print(f\"Number of patterns: {p_i}, P_error(t=1): {p_error} \")\n"
   ]
  },
  {
   "cell_type": "markdown",
   "metadata": {
    "tags": [
     "hide_input",
     "remove_cell"
    ]
   },
   "source": [
    "Repeat the task, but now apply Hebb's rule without setting the diagonal weights to zero. For each value of p listed above, estimate the one-step error probability $P_{\\text {error}}^{t=1}$ based on $10^5$ independent trials."
   ]
  },
  {
   "cell_type": "code",
   "execution_count": 2,
   "metadata": {},
   "outputs": [
    {
     "name": "stdout",
     "output_type": "stream",
     "text": [
      "Number of patterns: 12, P_error(t=1): 0.00021 \n",
      "Number of patterns: 24, P_error(t=1): 0.0029 \n",
      "Number of patterns: 48, P_error(t=1): 0.0127 \n",
      "Number of patterns: 70, P_error(t=1): 0.01841 \n",
      "Number of patterns: 100, P_error(t=1): 0.02115 \n",
      "Number of patterns: 120, P_error(t=1): 0.02116 \n"
     ]
    }
   ],
   "source": [
    "p = [12, 24, 48, 70, 100, 120]\n",
    "N = 120\n",
    "I = 100000\n",
    "for p_i in p:\n",
    "    solve = [0,0]\n",
    "    for i in range(I):\n",
    "        ret = calculate_instance(N, p_i, False)\n",
    "        if ret:\n",
    "            solve[0]+=1\n",
    "        else:\n",
    "            solve[1]+=1\n",
    "    p_error = float(solve[1]/I) \n",
    "    print(f\"Number of patterns: {p_i}, P_error(t=1): {p_error} \")\n"
   ]
  },
  {
   "cell_type": "code",
   "execution_count": null,
   "metadata": {},
   "outputs": [],
   "source": []
  }
 ],
 "metadata": {
  "kernelspec": {
   "display_name": "Python 3",
   "language": "python",
   "name": "python3"
  },
  "language_info": {
   "codemirror_mode": {
    "name": "ipython",
    "version": 3
   },
   "file_extension": ".py",
   "mimetype": "text/x-python",
   "name": "python",
   "nbconvert_exporter": "python",
   "pygments_lexer": "ipython3",
   "version": "3.7.3"
  }
 },
 "nbformat": 4,
 "nbformat_minor": 2
}
